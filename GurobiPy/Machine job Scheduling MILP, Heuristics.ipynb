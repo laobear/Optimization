{
 "cells": [
  {
   "cell_type": "markdown",
   "metadata": {},
   "source": [
    "# Week 6 - question 1"
   ]
  },
  {
   "cell_type": "code",
   "execution_count": 1,
   "metadata": {},
   "outputs": [],
   "source": [
    "from gurobipy import * # type: ignore\n",
    "from gurobipy import quicksum, GRB # type: ignore\n",
    "\n",
    "import matplotlib.pyplot as plt # type: ignore\n",
    "from utils import *"
   ]
  },
  {
   "cell_type": "markdown",
   "metadata": {},
   "source": [
    "Fifteen jobs, each with its processing time, should be scheduled on three machines.  <br>\n",
    "If two jobs cannot be scheduled on the same machine, they are called conflicting jobs. <br><br>\n",
    "Table 1 lists the job IDs, processing times, and sets of conflicting jobs. <br>\n",
    "For example, we cannot schedule any pair of jobs out of jobs 2, 5, 8 on the same machine. <br>\n",
    "Note that a job may have no conflicting jobs. "
   ]
  },
  {
   "cell_type": "markdown",
   "metadata": {
    "vscode": {
     "languageId": "csharp"
    }
   },
   "source": [
    "<style>\n",
    "    p, table {\n",
    "        font-size: 14px;\n",
    "    }\n",
    "    table, tr, th, td {\n",
    "        padding: -2px;\n",
    "    }\n",
    "</style>\n",
    "\n",
    "<table>\n",
    "    <thead>\n",
    "        <tr>\n",
    "            <th scope=\"col\"><p><span>Job</span></p></th>\n",
    "            <th scope=\"col\"><p><span>Processing time</span></p></th>\n",
    "            <th scope=\"col\"><p><span>Conflicting jobs</span></p></th>\n",
    "        </tr>\n",
    "    </thead>\n",
    "    <tbody>\n",
    "        <tr>\n",
    "            <td><p><span>1</span></p></td>\n",
    "            <td><p><span>7</span></p></td>\n",
    "            <td><p><span>None</span></p></td>\n",
    "        </tr>\n",
    "        <tr>\n",
    "            <td><p><span>2</span></p></td>\n",
    "            <td><p><span>4</span></p></td>\n",
    "            <td><p><span>5, 8</span></p></td>\n",
    "        </tr>\n",
    "        <tr>\n",
    "            <td><p><span>3</span></p></td>\n",
    "            <td><p><span>6</span></p></td>\n",
    "            <td><p><span>None</span></p></td>\n",
    "        </tr>\n",
    "        <tr>\n",
    "            <td><p><span>4</span></p></td>\n",
    "            <td><p><span>9</span></p></td>\n",
    "            <td><p><span>None</span></p></td>\n",
    "        </tr>\n",
    "        <tr>\n",
    "            <td><p><span>5</span></p></td>\n",
    "            <td><p><span>12</span></p></td>\n",
    "            <td><p><span>2, 8</span></p></td>\n",
    "        </tr>\n",
    "        <tr>\n",
    "            <td><p><span>6</span></p></td>\n",
    "            <td><p><span>8</span></p></td>\n",
    "            <td><p><span>9</span></p></td>\n",
    "        </tr>\n",
    "        <tr>\n",
    "            <td><p><span>7</span></p></td>\n",
    "            <td><p><span>10</span></p></td>\n",
    "            <td><p><span>10</span></p></td>\n",
    "        </tr>\n",
    "        <tr>\n",
    "            <td><p><span>8</span></p></td>\n",
    "            <td><p><span>11</span></p></td>\n",
    "            <td><p><span>2, 5</span></p></td>\n",
    "        </tr>\n",
    "        <tr>\n",
    "            <td><p><span>9</span></p></td>\n",
    "            <td><p><span>8</span></p></td>\n",
    "            <td><p><span>6</span></p></td>\n",
    "        </tr>\n",
    "        <tr>\n",
    "            <td><p><span>10</span></p></td>\n",
    "            <td><p><span>7</span></p></td>\n",
    "            <td><p><span>7</span></p></td>\n",
    "        </tr>\n",
    "        <tr>\n",
    "            <td><p><span>11</span></p></td>\n",
    "            <td><p><span>6</span></p></td>\n",
    "            <td><p><span>15</span></p></td>\n",
    "        </tr>\n",
    "        <tr>\n",
    "            <td><p><span>12</span></p></td>\n",
    "            <td><p><span>8</span></p></td>\n",
    "            <td><p><span>None</span></p></td>\n",
    "        </tr>\n",
    "        <tr>\n",
    "            <td><p><span>13</span></p></td>\n",
    "            <td><p><span>15</span></p></td>\n",
    "            <td><p><span>None</span></p></td>\n",
    "        </tr>\n",
    "        <tr>\n",
    "            <td><p><span>14</span></p></td>\n",
    "            <td><p><span>14</span></p></td>\n",
    "            <td><p><span>None</span></p></td>\n",
    "        </tr>\n",
    "        <tr>\n",
    "            <td><p><span>15</span></p></td>\n",
    "            <td><p><span>3</span></p></td>\n",
    "            <td><p><span>11</span></p></td>\n",
    "        </tr>\n",
    "    </tbody>\n",
    "</table>"
   ]
  },
  {
   "cell_type": "markdown",
   "metadata": {},
   "source": [
    "We want to schedule the jobs to minimize makespan. <br>\n",
    "For example:\n",
    "- We may schedule jobs 1, 4, 7, 8, and 13 to machine 1.\n",
    "- Jobs 2, 6, 10, 11, and 14 to machine 2.\n",
    "- Jobs 3, 5, 9, 12, and 15 to machine 3.\n",
    "\n",
    "The total processing times on the three machines are 52, 39, and 37, respectively. <br>\n",
    "The makespan is thus 52. While this is a feasible schedule, this may or may not be an optimal schedule. <br>\n",
    "When we try to improve the schedule, be careful about conflicting jobs. <br><br>\n",
    "For example, we cannot exchange jobs 8 and 11 (even though this reduces the makespan) because that will result in machine 2 processing conflicting jobs 2 and 8, which is infeasible. <br><br>\n",
    "\n",
    "Formulate a linear integer program that generates a feasible schedule to minimize makespan. <br>\n",
    "Then write a computer program (e.g., using Python to invoke Gurobi Optimizer) to solve this instance and obtain an optimal schedule. <br>\n",
    "Write down the minimized makespan (i.e. the objective value of an optimal solution). <br><br>\n",
    "\n",
    "Do not have any symbol other than numeric values in your answer."
   ]
  },
  {
   "cell_type": "markdown",
   "metadata": {},
   "source": [
    "## MILP Formulation"
   ]
  },
  {
   "cell_type": "code",
   "execution_count": 2,
   "metadata": {},
   "outputs": [
    {
     "name": "stdout",
     "output_type": "stream",
     "text": [
      "Restricted license - for non-production use only - expires 2026-11-23\n"
     ]
    }
   ],
   "source": [
    "# create model instance\n",
    "model = Model()"
   ]
  },
  {
   "cell_type": "code",
   "execution_count": 3,
   "metadata": {},
   "outputs": [],
   "source": [
    "# set of machines - (m)\n",
    "m = [1, 2, 3]\n",
    "\n",
    "# set of jobs and their processing times - (j)\n",
    "j = [1, 2, 3, 4, 5, 6, 7, 8, 9, 10, 11, 12, 13, 14, 15]"
   ]
  },
  {
   "cell_type": "code",
   "execution_count": 4,
   "metadata": {},
   "outputs": [
    {
     "name": "stdout",
     "output_type": "stream",
     "text": [
      "1\n",
      "2\n",
      "3\n",
      "4\n",
      "5\n",
      "6\n",
      "7\n",
      "8\n",
      "9\n",
      "10\n",
      "11\n",
      "12\n",
      "13\n",
      "14\n",
      "15\n"
     ]
    }
   ],
   "source": [
    "for job in j:\n",
    "    print(job)"
   ]
  },
  {
   "cell_type": "code",
   "execution_count": 5,
   "metadata": {},
   "outputs": [
    {
     "data": {
      "text/plain": [
       "(list, list)"
      ]
     },
     "execution_count": 5,
     "metadata": {},
     "output_type": "execute_result"
    }
   ],
   "source": [
    "type(m), type(j)"
   ]
  },
  {
   "cell_type": "code",
   "execution_count": 6,
   "metadata": {},
   "outputs": [],
   "source": [
    "# processing times - (j, p_j)\n",
    "p_j = {\n",
    "    1: 7,\n",
    "    2: 4,\n",
    "    3: 6,\n",
    "    4: 9,\n",
    "    5: 12,\n",
    "    6: 8,\n",
    "    7: 10,\n",
    "    8: 11,\n",
    "    9: 8,\n",
    "    10: 7,\n",
    "    11: 6,\n",
    "    12: 8,\n",
    "    13: 15,\n",
    "    14: 14,\n",
    "    15: 3\n",
    "}\n",
    "\n",
    "# set of conflicting jobs (j1, j2)\n",
    "c_jj = {\n",
    "    2: [5, 8],\n",
    "    5: [2, 8],\n",
    "    6: [9],\n",
    "    7: [10],\n",
    "    8: [2, 5],\n",
    "    9: [6],\n",
    "    10: [7],\n",
    "    11: [15],\n",
    "    15: [11]\n",
    "}"
   ]
  },
  {
   "cell_type": "code",
   "execution_count": 7,
   "metadata": {},
   "outputs": [
    {
     "data": {
      "text/plain": [
       "(dict, dict)"
      ]
     },
     "execution_count": 7,
     "metadata": {},
     "output_type": "execute_result"
    }
   ],
   "source": [
    "type(p_j), type(c_jj)"
   ]
  },
  {
   "cell_type": "code",
   "execution_count": 8,
   "metadata": {},
   "outputs": [],
   "source": [
    "# ==== VARIABLES ====\n",
    "# Add job j to machine m or not\n",
    "x = model.addVars(j, m, vtype=GRB.BINARY, name='x')\n",
    "\n",
    "# max load on machine - Sets a ceiling which then slowly reduces ensuring that the machine with the highest load is always reduced first\n",
    "C_max = model.addVar(vtype=GRB.CONTINUOUS, name=\"C_max\")"
   ]
  },
  {
   "cell_type": "code",
   "execution_count": 9,
   "metadata": {},
   "outputs": [],
   "source": [
    "# ==== CONSTRAINTS ====\n",
    "\n",
    "# 1. each job is assigned to exactly one machine\n",
    "for job in j:\n",
    "    model.addConstr(quicksum(x[job, machine] for machine in m) == 1)\n",
    "\n",
    "# 2. no two conflicting jobs are assigned to the same machine\n",
    "for j1, conflicts in c_jj.items():\n",
    "    for j2 in conflicts:\n",
    "        if j1 < j2:  # Avoid duplicate constraints\n",
    "            for machine in m:\n",
    "                model.addConstr(x[j1, machine] + x[j2, machine] <= 1)\n",
    "\n",
    "# 3. C_max is the maximum load on any machine\n",
    "for machine in m:\n",
    "    model.addConstr(quicksum(p_j[job] * x[job, machine] for job in j) <= C_max)"
   ]
  },
  {
   "cell_type": "code",
   "execution_count": 10,
   "metadata": {},
   "outputs": [
    {
     "name": "stdout",
     "output_type": "stream",
     "text": [
      "x[2, 1] + x[5, 1] <= 1\n",
      "x[2, 2] + x[5, 2] <= 1\n",
      "x[2, 3] + x[5, 3] <= 1\n",
      "x[2, 1] + x[8, 1] <= 1\n",
      "x[2, 2] + x[8, 2] <= 1\n",
      "x[2, 3] + x[8, 3] <= 1\n",
      "x[5, 1] + x[8, 1] <= 1\n",
      "x[5, 2] + x[8, 2] <= 1\n",
      "x[5, 3] + x[8, 3] <= 1\n",
      "x[6, 1] + x[9, 1] <= 1\n",
      "x[6, 2] + x[9, 2] <= 1\n",
      "x[6, 3] + x[9, 3] <= 1\n",
      "x[7, 1] + x[10, 1] <= 1\n",
      "x[7, 2] + x[10, 2] <= 1\n",
      "x[7, 3] + x[10, 3] <= 1\n",
      "x[11, 1] + x[15, 1] <= 1\n",
      "x[11, 2] + x[15, 2] <= 1\n",
      "x[11, 3] + x[15, 3] <= 1\n"
     ]
    }
   ],
   "source": [
    "# show constraints equations\n",
    "for j1, conflicts in c_jj.items():\n",
    "    for j2 in conflicts:\n",
    "        if j1 < j2:\n",
    "            for m_ in m:\n",
    "                print(f'x[{j1}, {m_}] + x[{j2}, {m_}] <= 1')"
   ]
  },
  {
   "cell_type": "code",
   "execution_count": 11,
   "metadata": {},
   "outputs": [],
   "source": [
    "# ==== Objective function ===== \n",
    "# minimize makespan of the longest machine to finish all jobs\n",
    "model.setObjective(C_max, GRB.MINIMIZE)"
   ]
  },
  {
   "cell_type": "code",
   "execution_count": 12,
   "metadata": {},
   "outputs": [
    {
     "name": "stdout",
     "output_type": "stream",
     "text": [
      "Gurobi Optimizer version 12.0.0 build v12.0.0rc1 (win64 - Windows 10.0 (19045.2))\n",
      "\n",
      "CPU model: AMD Ryzen 5 5600G with Radeon Graphics, instruction set [SSE2|AVX|AVX2]\n",
      "Thread count: 6 physical cores, 12 logical processors, using up to 12 threads\n",
      "\n",
      "Optimize a model with 36 rows, 46 columns and 129 nonzeros\n",
      "Model fingerprint: 0x1e047281\n",
      "Variable types: 1 continuous, 45 integer (45 binary)\n",
      "Coefficient statistics:\n",
      "  Matrix range     [1e+00, 2e+01]\n",
      "  Objective range  [1e+00, 1e+00]\n",
      "  Bounds range     [1e+00, 1e+00]\n",
      "  RHS range        [1e+00, 1e+00]\n",
      "Found heuristic solution: objective 72.0000000\n",
      "Presolve removed 6 rows and 0 columns\n",
      "Presolve time: 0.00s\n",
      "Presolved: 30 rows, 46 columns, 120 nonzeros\n",
      "Variable types: 0 continuous, 46 integer (45 binary)\n",
      "\n",
      "Root relaxation: objective 4.266667e+01, 26 iterations, 0.00 seconds (0.00 work units)\n",
      "\n",
      "    Nodes    |    Current Node    |     Objective Bounds      |     Work\n",
      " Expl Unexpl |  Obj  Depth IntInf | Incumbent    BestBd   Gap | It/Node Time\n",
      "\n",
      "     0     0   42.66667    0    5   72.00000   42.66667  40.7%     -    0s\n",
      "H    0     0                      46.0000000   42.66667  7.25%     -    0s\n",
      "H    0     0                      44.0000000   42.66667  3.03%     -    0s\n",
      "H    0     0                      43.0000000   42.66667  0.78%     -    0s\n",
      "     0     0   42.66667    0    5   43.00000   42.66667  0.78%     -    0s\n",
      "\n",
      "Explored 1 nodes (26 simplex iterations) in 0.01 seconds (0.00 work units)\n",
      "Thread count was 12 (of 12 available processors)\n",
      "\n",
      "Solution count 4: 43 44 46 72 \n",
      "\n",
      "Optimal solution found (tolerance 1.00e-04)\n",
      "Best objective 4.300000000000e+01, best bound 4.300000000000e+01, gap 0.0000%\n"
     ]
    }
   ],
   "source": [
    "# Optimize the model\n",
    "model.optimize()"
   ]
  },
  {
   "cell_type": "code",
   "execution_count": 22,
   "metadata": {},
   "outputs": [
    {
     "name": "stdout",
     "output_type": "stream",
     "text": [
      "Model solve time: 0.019999980926513672\n"
     ]
    }
   ],
   "source": [
    "# model solve time\n",
    "print(f'Model solve time: {model.Runtime}')"
   ]
  },
  {
   "cell_type": "code",
   "execution_count": 13,
   "metadata": {},
   "outputs": [
    {
     "name": "stdout",
     "output_type": "stream",
     "text": [
      "Job 1 is assigned to machine 3\n",
      "Job 2 is assigned to machine 3\n",
      "Job 3 is assigned to machine 2\n",
      "Job 4 is assigned to machine 2\n",
      "Job 5 is assigned to machine 1\n",
      "Job 6 is assigned to machine 1\n",
      "Job 7 is assigned to machine 2\n",
      "Job 8 is assigned to machine 2\n",
      "Job 9 is assigned to machine 3\n",
      "Job 10 is assigned to machine 3\n",
      "Job 11 is assigned to machine 2\n",
      "Job 12 is assigned to machine 1\n",
      "Job 13 is assigned to machine 1\n",
      "Job 14 is assigned to machine 3\n",
      "Job 15 is assigned to machine 3\n"
     ]
    }
   ],
   "source": [
    "# Print the solution - show the assignment of jobs to machines\n",
    "for job in j:\n",
    "    for machine in m:\n",
    "        if x[job, machine].x > 0.5:\n",
    "            print(f'Job {job} is assigned to machine {machine}')"
   ]
  },
  {
   "cell_type": "code",
   "execution_count": 14,
   "metadata": {},
   "outputs": [],
   "source": [
    "# create a chart of the schedule\n",
    "\n",
    "# sort jobs by machine\n",
    "jobs_by_machine = {machine: [] for machine in m}\n",
    "for job in j:\n",
    "    for machine in m:\n",
    "        if x[job, machine].x > 0.5:\n",
    "            jobs_by_machine[machine].append(job)\n",
    "\n",
    "# create bar char showing total processing time for each machine\n",
    "machines = list(jobs_by_machine.keys())\n",
    "machine_loads = [sum(p_j[job] for job in jobs_by_machine[machine]) for machine in machines]\n"
   ]
  },
  {
   "cell_type": "code",
   "execution_count": 15,
   "metadata": {},
   "outputs": [
    {
     "data": {
      "image/png": "[encoded data removed]",
      "text/plain": [
       "<Figure size 640x480 with 1 Axes>"
      ]
     },
     "metadata": {},
     "output_type": "display_data"
    }
   ],
   "source": [
    "plot_schedule(m, machine_loads)"
   ]
  },
  {
   "cell_type": "code",
   "execution_count": 16,
   "metadata": {},
   "outputs": [
    {
     "name": "stdout",
     "output_type": "stream",
     "text": [
      "Total makespan: 43.0\n"
     ]
    }
   ],
   "source": [
    "# total makespan\n",
    "print(f'Total makespan: {C_max.x}')"
   ]
  },
  {
   "cell_type": "markdown",
   "metadata": {},
   "source": [
    "## Heuristic solution \n",
    "- assigns jobs to machines in order of their processing time (shortest first) \n",
    "- and then assigns the next job to the machine with the smallest load so far (greedy approach) if no conflicts\n",
    "- if there is a tie then the machine with the smallest number is chosen"
   ]
  },
  {
   "cell_type": "code",
   "execution_count": 17,
   "metadata": {},
   "outputs": [
    {
     "data": {
      "text/plain": [
       "[15, 2, 3, 11, 1, 10, 6, 9, 12, 4, 7, 8, 5, 14, 13]"
      ]
     },
     "execution_count": 17,
     "metadata": {},
     "output_type": "execute_result"
    }
   ],
   "source": [
    "# sort jobs by processing time\n",
    "sorted_jobs = sorted(j, key=lambda job: p_j[job])\n",
    "sorted_jobs"
   ]
  },
  {
   "cell_type": "code",
   "execution_count": 18,
   "metadata": {},
   "outputs": [
    {
     "name": "stdout",
     "output_type": "stream",
     "text": [
      "**Conflicts for job 15: [11]\n",
      "**Conflicts for job 2: [5, 8]\n",
      "**Conflicts for job 3: []\n",
      "**Conflicts for job 11: [15]\n",
      "**Conflicts for job 1: []\n",
      "**Conflicts for job 10: [7]\n",
      "**Conflicts for job 6: [9]\n",
      "**Conflicts for job 9: [6]\n",
      "**Conflicts for job 12: []\n",
      "**Conflicts for job 4: []\n",
      "**Conflicts for job 7: [10]\n",
      "**Conflicts for job 8: [2, 5]\n",
      "**Conflicts for job 5: [2, 8]\n",
      "**Conflicts for job 14: []\n",
      "**Conflicts for job 13: []\n",
      "Initial solution\n",
      "Machine 1: [15, 2, 10, 6, 14, 13]\n",
      "Total load: 51\n",
      "Machine 2: [3, 11, 9, 7, 8]\n",
      "Total load: 41\n",
      "Machine 3: [1, 12, 4, 5]\n",
      "Total load: 36\n",
      "Final solution\n",
      "Machine 1: [2, 10, 6, 14, 13]\n",
      "Total load: 45\n",
      "Machine 2: [3, 11, 9, 7, 8]\n",
      "Total load: 41\n",
      "Machine 3: [1, 12, 4, 5, 15]\n",
      "Total load: 42\n",
      "CPU times: total: 0 ns\n",
      "Wall time: 1e+03 μs\n"
     ]
    }
   ],
   "source": [
    "%%time\n",
    "\n",
    "# empty dictionary for each job to be assigned to each machine\n",
    "jobs_by_machine = {job: [] for job in j}\n",
    "\n",
    "# count total load on each machine\n",
    "machine_loads = {machine: 0 for machine in m}\n",
    "\n",
    "# list of jobs on each machine\n",
    "machine_jobs = {machine: [] for machine in m}\n",
    "\n",
    "# assign jobs to machines\n",
    "for job in sorted_jobs:\n",
    "    # find the machine with the smallest load - if there is a tie, choose the machine with the smallest number\n",
    "    min_load = min(machine_loads.values())\n",
    "\n",
    "    # find all machines with the smallest load - select the one with the smallest number\n",
    "    min_load_machines = [machine for machine, load in machine_loads.items() if load == min_load]\n",
    "\n",
    "    # check if there are any conflicts\n",
    "    conflicts = [conflict for conflict in c_jj.get(job, []) if conflict in jobs_by_machine]\n",
    "    print(f'**Conflicts for job {job}: {conflicts}')\n",
    "    if not conflicts:\n",
    "        # no conflicts - assign job to machine with smallest load\n",
    "        machine = min(min_load_machines)\n",
    "        jobs_by_machine[job] = machine\n",
    "        machine_loads[machine] += p_j[job]\n",
    "        machine_jobs[machine].append(job)\n",
    "    else:\n",
    "        # conflicts - assign job to machine with smallest load that does not have contain jobs in conflict\n",
    "        for machine in m:\n",
    "            if machine not in [jobs_by_machine[conflict] for conflict in conflicts]:\n",
    "                jobs_by_machine[job] = machine\n",
    "                machine_loads[machine] += p_j[job]\n",
    "                machine_jobs[machine].append(job)\n",
    "                break\n",
    "    # print(f'Job {job} is assigned to machine {jobs_by_machine[job]}\\n')\n",
    "\n",
    "# do a local search to improve the solution\n",
    "# randomly swap jobs between machines from the highest load machine to the lowest load machine if no conflicts are created until no further improvement is possible\n",
    "\n",
    "current_max_load = max(machine_loads.values())\n",
    "\n",
    "max_load_machine = max(machine_loads, key=machine_loads.get)\n",
    "min_load_machine = min(machine_loads, key=machine_loads.get)\n",
    "\n",
    "# print initial solution\n",
    "print('Initial solution')\n",
    "for machine, jobs in machine_jobs.items():\n",
    "    print(f'Machine {machine}: {jobs}')\n",
    "    print(f'Total load: {machine_loads[machine]}')\n",
    "\n",
    "# move jobs from max_load_machine to min_load_machine if it results in lower max load and no conflicts are created\n",
    "\n",
    "for job in machine_jobs[max_load_machine]:\n",
    "    # check if job can be moved\n",
    "    if all(conflict not in machine_jobs[min_load_machine] for conflict in c_jj.get(job, [])):\n",
    "        if c_jj.get(job, []) == []:\n",
    "            continue\n",
    "        \n",
    "        # check if moving the job reduces the makespan\n",
    "        temp_loads = machine_loads.copy()\n",
    "        temp_jobs = machine_jobs.copy()\n",
    "        temp_loads[min_load_machine] += p_j[job]\n",
    "        temp_loads[max_load_machine] -= p_j[job]\n",
    "        temp_max_load = max(temp_loads.values())\n",
    "\n",
    "        # move job from max_load_machine to min_load_machine\n",
    "        temp_jobs[min_load_machine].append(job)\n",
    "        temp_jobs[max_load_machine].remove(job)\n",
    "        temp_loads[min_load_machine] += p_j[job]\n",
    "        temp_loads[max_load_machine] -= p_j[job]\n",
    "\n",
    "        # check if new solution is better\n",
    "        if temp_max_load < current_max_load:\n",
    "            # update current max load\n",
    "            current_max_load = temp_max_load\n",
    "            \n",
    "            # update machine_jobs and machine_loads\n",
    "            machine_loads = temp_loads\n",
    "            machine_jobs = temp_jobs\n",
    "\n",
    "            # find new max_load_machine and min_load_machine\n",
    "            max_load_machine = max(machine_loads, key=machine_loads.get)\n",
    "            min_load_machine = min(machine_loads, key=machine_loads.get)\n",
    "\n",
    "# print final solution\n",
    "print('Final solution')\n",
    "for machine, jobs in machine_jobs.items():\n",
    "    print(f'Machine {machine}: {jobs}')\n",
    "    print(f'Total load: {machine_loads[machine]}')"
   ]
  },
  {
   "cell_type": "code",
   "execution_count": 19,
   "metadata": {},
   "outputs": [
    {
     "data": {
      "text/plain": [
       "{1: [2, 10, 6, 14, 13], 2: [3, 11, 9, 7, 8], 3: [1, 12, 4, 5, 15]}"
      ]
     },
     "execution_count": 19,
     "metadata": {},
     "output_type": "execute_result"
    }
   ],
   "source": [
    "machine_jobs"
   ]
  },
  {
   "cell_type": "code",
   "execution_count": 20,
   "metadata": {},
   "outputs": [
    {
     "data": {
      "text/plain": [
       "[45, 41, 42]"
      ]
     },
     "execution_count": 20,
     "metadata": {},
     "output_type": "execute_result"
    }
   ],
   "source": [
    "# change machine_loads to list only take the values\n",
    "machine_loads = [machine_loads[machine] for machine in m]\n",
    "machine_loads"
   ]
  },
  {
   "cell_type": "code",
   "execution_count": 21,
   "metadata": {},
   "outputs": [
    {
     "data": {
      "image/png": "[encoded data removed]",
      "text/plain": [
       "<Figure size 640x480 with 1 Axes>"
      ]
     },
     "metadata": {},
     "output_type": "display_data"
    }
   ],
   "source": [
    "plot_schedule(machines, machine_loads)"
   ]
  },
  {
   "cell_type": "markdown",
   "metadata": {},
   "source": [
    "Gurobi solve time : 0.02 s , Makespan = 43 <br>\n",
    "Heuristics : 0.001 s , Makespan = 45"
   ]
  }
 ],
 "metadata": {
  "kernelspec": {
   "display_name": "venv",
   "language": "python",
   "name": "python3"
  },
  "language_info": {
   "codemirror_mode": {
    "name": "ipython",
    "version": 3
   },
   "file_extension": ".py",
   "mimetype": "text/x-python",
   "name": "python",
   "nbconvert_exporter": "python",
   "pygments_lexer": "ipython3",
   "version": "3.12.7"
  }
 },
 "nbformat": 4,
 "nbformat_minor": 2
}
