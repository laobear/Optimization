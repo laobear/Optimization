{
 "cells": [
  {
   "cell_type": "markdown",
   "metadata": {},
   "source": [
    "# Week 6 - question 2"
   ]
  },
  {
   "cell_type": "code",
   "execution_count": 4,
   "metadata": {},
   "outputs": [],
   "source": [
    "from gurobipy import * # type: ignore\n",
    "from gurobipy import quicksum, GRB # type: ignore\n",
    "\n",
    "import matplotlib.pyplot as plt # type: ignore\n",
    "from utils import *\n",
    "\n",
    "import time\n",
    "\n",
    "import networkx as nx "
   ]
  },
  {
   "cell_type": "markdown",
   "metadata": {},
   "source": [
    "A city is divided into `n` districts. The travel time (in minutes) from District `i` to District `j` is `d_ij`. <br>\n",
    "The population of District `i` (in thousands) is `p_i`. <br>\n",
    "For example, with `n = 8` districts, it takes 5 minutes to travel from District 2 to District 3, and District 1 has 40,000 citizens.<br><br>\n",
    "\n",
    "The city has `m` ambulances to be located in `m` districts. <br>\n",
    "The population-weighted firefighting time for each district is the product of its population and the travel time to the nearest ambulance. <br>\n",
    "The goal is to minimize the maximum population-weighted firefighting time among all districts.<br><br>\n",
    "\n",
    "For instance, with `m = 2` and `n = 8`, if ambulances are in Districts 1 and 8, <br>\n",
    "the closest ambulance for Districts 1, 2, and 3 is in District 1, and for the remaining districts, it is in District 8.<br>\n"
   ]
  },
  {
   "cell_type": "markdown",
   "metadata": {},
   "source": [
    "<table>\n",
    "    <thead>\n",
    "        <tr>\n",
    "            <th scope=\"col\"><p><span>District</span></p></th>\n",
    "            <th scope=\"col\"><p><span>1</span></p></th>\n",
    "            <th scope=\"col\"><p><span>2</span></p></th>\n",
    "            <th scope=\"col\"><p><span>3</span></p></th>\n",
    "            <th scope=\"col\"><p><span>4</span></p></th>\n",
    "            <th scope=\"col\"><p><span>5</span></p></th>\n",
    "            <th scope=\"col\"><p><span>6</span></p></th>\n",
    "            <th scope=\"col\"><p><span>7</span></p></th>\n",
    "            <th scope=\"col\"><p><span>8</span></p></th>\n",
    "        </tr>\n",
    "    </thead>\n",
    "    <tbody>\n",
    "        <tr>\n",
    "            <td><p><span>1</span></p></td>\n",
    "            <td><p><span>0</span></p></td>\n",
    "            <td><p><span>3</span></p></td>\n",
    "            <td><p><span>4</span></p></td>\n",
    "            <td><p><span>6</span></p></td>\n",
    "            <td><p><span>8</span></p></td>\n",
    "            <td><p><span>9</span></p></td>\n",
    "            <td><p><span>8</span></p></td>\n",
    "            <td><p><span>10</span></p></td>\n",
    "        </tr>\n",
    "        <tr>\n",
    "            <td><p><span>2</span></p></td>\n",
    "            <td><p><span>3</span></p></td>\n",
    "            <td><p><span>0</span></p></td>\n",
    "            <td><p><span>5</span></p></td>\n",
    "            <td><p><span>4</span></p></td>\n",
    "            <td><p><span>8</span></p></td>\n",
    "            <td><p><span>6</span></p></td>\n",
    "            <td><p><span>12</span></p></td>\n",
    "            <td><p><span>9</span></p></td>\n",
    "        </tr>\n",
    "        <tr>\n",
    "            <td><p><span>3</span></p></td>\n",
    "            <td><p><span>4</span></p></td>\n",
    "            <td><p><span>5</span></p></td>\n",
    "            <td><p><span>0</span></p></td>\n",
    "            <td><p><span>2</span></p></td>\n",
    "            <td><p><span>2</span></p></td>\n",
    "            <td><p><span>3</span></p></td>\n",
    "            <td><p><span>5</span></p></td>\n",
    "            <td><p><span>7</span></p></td>\n",
    "        </tr>\n",
    "        <tr>\n",
    "            <td><p><span>4</span></p></td>\n",
    "            <td><p><span>6</span></p></td>\n",
    "            <td><p><span>4</span></p></td>\n",
    "            <td><p><span>2</span></p></td>\n",
    "            <td><p><span>0</span></p></td>\n",
    "            <td><p><span>3</span></p></td>\n",
    "            <td><p><span>2</span></p></td>\n",
    "            <td><p><span>5</span></p></td>\n",
    "            <td><p><span>4</span></p></td>\n",
    "        </tr>\n",
    "        <tr>\n",
    "            <td><p><span>5</span></p></td>\n",
    "            <td><p><span>8</span></p></td>\n",
    "            <td><p><span>8</span></p></td>\n",
    "            <td><p><span>2</span></p></td>\n",
    "            <td><p><span>3</span></p></td>\n",
    "            <td><p><span>0</span></p></td>\n",
    "            <td><p><span>2</span></p></td>\n",
    "            <td><p><span>2</span></p></td>\n",
    "            <td><p><span>4</span></p></td>\n",
    "        </tr>\n",
    "        <tr>\n",
    "            <td><p><span>6</span></p></td>\n",
    "            <td><p><span>9</span></p></td>\n",
    "            <td><p><span>6</span></p></td>\n",
    "            <td><p><span>3</span></p></td>\n",
    "            <td><p><span>2</span></p></td>\n",
    "            <td><p><span>2</span></p></td>\n",
    "            <td><p><span>0</span></p></td>\n",
    "            <td><p><span>3</span></p></td>\n",
    "            <td><p><span>2</span></p></td>\n",
    "        </tr>\n",
    "        <tr>\n",
    "            <td><p><span>7</span></p></td>\n",
    "            <td><p><span>8</span></p></td>\n",
    "            <td><p><span>12</span></p></td>\n",
    "            <td><p><span>5</span></p></td>\n",
    "            <td><p><span>5</span></p></td>\n",
    "            <td><p><span>2</span></p></td>\n",
    "            <td><p><span>3</span></p></td>\n",
    "            <td><p><span>0</span></p></td>\n",
    "            <td><p><span>2</span></p></td>\n",
    "        </tr>\n",
    "        <tr>\n",
    "            <td><p><span>8</span></p></td>\n",
    "            <td><p><span>10</span></p></td>\n",
    "            <td><p><span>9</span></p></td>\n",
    "            <td><p><span>7</span></p></td>\n",
    "            <td><p><span>4</span></p></td>\n",
    "            <td><p><span>4</span></p></td>\n",
    "            <td><p><span>2</span></p></td>\n",
    "            <td><p><span>2</span></p></td>\n",
    "            <td><p><span>0</span></p></td>\n",
    "        </tr>\n",
    "    </tbody>\n",
    "</table>"
   ]
  },
  {
   "cell_type": "markdown",
   "metadata": {},
   "source": [
    "<table>\n",
    "    <thead>\n",
    "        <tr>\n",
    "            <th scope=\"col\"><p><span>District</span></p></th>\n",
    "            <th scope=\"col\"><p><span>Population</span></p></th>\n",
    "        </tr>\n",
    "    </thead>\n",
    "    <tbody>\n",
    "        <tr>\n",
    "            <td><p><span>1</span></p></td>\n",
    "            <td><p><span>40</span></p></td>\n",
    "        </tr>\n",
    "        <tr>\n",
    "            <td><p><span>2</span></p></td>\n",
    "            <td><p><span>30</span></p></td>\n",
    "        </tr>\n",
    "        <tr>\n",
    "            <td><p><span>3</span></p></td>\n",
    "            <td><p><span>35</span></p></td>\n",
    "        </tr>\n",
    "        <tr>\n",
    "            <td><p><span>4</span></p></td>\n",
    "            <td><p><span>20</span></p></td>\n",
    "        </tr>\n",
    "        <tr>\n",
    "            <td><p><span>5</span></p></td>\n",
    "            <td><p><span>15</span></p></td>\n",
    "        </tr>\n",
    "        <tr>\n",
    "            <td><p><span>6</span></p></td>\n",
    "            <td><p><span>50</span></p></td>\n",
    "        </tr>\n",
    "        <tr>\n",
    "            <td><p><span>7</span></p></td>\n",
    "            <td><p><span>45</span></p></td>\n",
    "        </tr>\n",
    "        <tr>\n",
    "            <td><p><span>8</span></p></td>\n",
    "            <td><p><span>60</span></p></td>\n",
    "        </tr>\n",
    "    </tbody>\n",
    "</table>"
   ]
  },
  {
   "cell_type": "markdown",
   "metadata": {},
   "source": [
    "The city has `m` ambulances and wants to locate them to `m` of the districts. <br>\n",
    "For each district, the population-weighted firefighting time is defined as the <br>\n",
    "product of the district population times the amount of time it takes for the closest ambulance to travel to it. <br>\n",
    "The decision maker aims to locate the `m` ambulances to minimize the maximum population-weighted firefighting time among all districts.<br><br>\n",
    "\n",
    "As an example, suppose that `m=2`, `n=8`, `d_ij` and `p_i` are provided in Table 2, <br>\n",
    "and the two ambulances are located in District 1 and 8. We then know that for Districts 1, 2, and 3 <br>\n",
    "the closest ambulance is in District 1 and for the remaining five districts the closest ambulance is in District 8. <br>\n",
    "The firefighting time for the eight districts are thus 0, 3, 4, 4, 4, 2, 2, and 0 minutes, respectively. <br>\n",
    "The population-weighted firefighting times may then be calculated as 0, 90, 140, 80, 60, 100, 90, and 0. <br>\n",
    "The maximum among the eight districts is therefore 140.<br><br>\n",
    "\n",
    "For this problem, formulate an integer program that can minimize the maximum population-weighted firefighting time among all districts. <br>\n",
    "Then write a program to invoke a solver (e.g., write a Python program to invoke Gurobi Optimizer) to solve the above instance <br>\n",
    "and find an optimal solution for each problem. <br>\n",
    "Write down the minimized maximum population-weighted firefighting times among all districts of the two districts that ambulances should be located in <br>\n",
    "(i.e., the objective value of an optimal solution). <br><br>\n",
    "\n",
    "Do not have any symbol other than numeric values in your answer."
   ]
  },
  {
   "cell_type": "markdown",
   "metadata": {},
   "source": [
    "## Optimization Problem\n",
    "\n",
    "#### **Objective Function**\n",
    "$$\n",
    "\\min \\sum_{i=1}^{n} w_i\n",
    "$$\n",
    "\n",
    "#### **Subject to:**\n",
    "1. **Facility Selection Constraint**  \n",
    "   $$\n",
    "   \\sum_{j=1}^{n} x_j = m\n",
    "   $$\n",
    "\n",
    "   - Ensures that exactly m facilities are selected. \n",
    "   - x_j is a binary variable x_j = 1 if facility j is selected, otherwise 0. <br><br>\n",
    "\n",
    "2. **Assignment Constraints**  \n",
    "   $$\n",
    "   y_{ij} \\leq x_j, \\quad \\forall i = 1, \\dots, n, \\quad j = 1, \\dots, n\n",
    "   $$\n",
    "\n",
    "   - An entity can only be assigned to a facility if the facility is selected.\n",
    "   - Prevents assigning entities to closed facilities.\n",
    "\n",
    "   $$\n",
    "   \\sum_{j=1}^{n} y_{ij} = 1, \\quad \\forall i = 1, \\dots, n\n",
    "   $$\n",
    "\n",
    "   - Ensures each entity is assigned to exactly one facility.\n",
    "   - Each row in the assignment matrix sums to 1. <br><br>\n",
    "\n",
    "3. **Distance Constraints**  \n",
    "   $$\n",
    "   w_i \\geq \\sum_{j=1}^{n} d_{ij} y_{ij}, \\quad \\forall i = 1, \\dots, n\n",
    "   $$\n",
    "\n",
    "   - Ensures that w_i represents the **actual distance** based on assignment.\n",
    "   - d_ij is the **distance** from **entity \\( i \\) to facility \\( j \\)**.\n",
    "   - y_ij ensures **only the selected facility’s distance is used**. <br><br>\n",
    "\n",
    "4. **Binary Constraints**  \n",
    "   $$\n",
    "   x_j, y_{ij} \\in \\{0,1\\}, \\quad \\forall i = 1, \\dots, n, \\quad j = 1, \\dots, n\n",
    "   $$\n",
    "\n",
    "5. **Non-Negativity Constraint**  \n",
    "   $$\n",
    "   w_i \\geq 0, \\quad \\forall i = 1, \\dots, n\n",
    "   $$\n"
   ]
  },
  {
   "cell_type": "markdown",
   "metadata": {},
   "source": [
    "## MILP Formulation"
   ]
  },
  {
   "cell_type": "code",
   "execution_count": 5,
   "metadata": {},
   "outputs": [
    {
     "name": "stdout",
     "output_type": "stream",
     "text": [
      "Restricted license - for non-production use only - expires 2026-11-23\n"
     ]
    }
   ],
   "source": [
    "# create model instance\n",
    "model = Model()"
   ]
  },
  {
   "cell_type": "code",
   "execution_count": 6,
   "metadata": {},
   "outputs": [],
   "source": [
    "# === PARAMETERS ===\n",
    "\n",
    "# Distance matrix - (d_nn)\n",
    "d_nn = [\n",
    "    [0, 3, 4, 6, 8, 9, 8, 10],\n",
    "    [3, 0, 5, 4, 8, 6, 12, 9],\n",
    "    [4, 5, 0, 2, 2, 3, 5, 7],\n",
    "    [6, 4, 2, 0, 3, 2, 5, 4],\n",
    "    [8, 8, 2, 3, 0, 2, 2, 4],\n",
    "    [9, 6, 3, 2, 2, 0, 3, 2],\n",
    "    [8, 12, 5, 5, 2, 3, 0, 2],\n",
    "    [10, 9, 7, 4, 4, 2, 2, 0]\n",
    "]\n",
    "\n",
    "# Demand/Population at each district - (p_n)\n",
    "p_n = [40, 30, 35, 20, 15, 50, 45, 60]"
   ]
  },
  {
   "cell_type": "code",
   "execution_count": 7,
   "metadata": {},
   "outputs": [
    {
     "data": {
      "text/plain": [
       "3"
      ]
     },
     "execution_count": 7,
     "metadata": {},
     "output_type": "execute_result"
    }
   ],
   "source": [
    "def get_distance(i, j):\n",
    "    return d_nn[i-1][j-1]\n",
    "\n",
    "get_distance(1, 2)"
   ]
  },
  {
   "cell_type": "code",
   "execution_count": 8,
   "metadata": {},
   "outputs": [],
   "source": [
    "# === SETS ===\n",
    "# set of ambulances - (m)\n",
    "m = list(range(1, 2+1))\n",
    "\n",
    "# set of districts - (n)\n",
    "n = list(range(1, 8+1))"
   ]
  },
  {
   "cell_type": "code",
   "execution_count": 9,
   "metadata": {},
   "outputs": [
    {
     "data": {
      "text/plain": [
       "([1, 2], [1, 2, 3, 4, 5, 6, 7, 8], 2)"
      ]
     },
     "execution_count": 9,
     "metadata": {},
     "output_type": "execute_result"
    }
   ],
   "source": [
    "m , n, len(m)"
   ]
  },
  {
   "cell_type": "code",
   "execution_count": 10,
   "metadata": {},
   "outputs": [],
   "source": [
    "# ==== VARIABLES ====\n",
    "\n",
    "# x_j = 1 if district j is assigned an ambulance, 0 otherwise\n",
    "x = model.addVars(n, vtype=GRB.BINARY, name=\"ambulance asingment to district j\") \n",
    "\n",
    "# y_ij = 1 if district j is assigned to ambulance i, 0 otherwise\n",
    "y = model.addVars(n, n, vtype=GRB.BINARY, name=\"if district i is assigned to ambulance in district j\")\n",
    "\n",
    "# distance from district j to ambulance i\n",
    "w_max = model.addVar(vtype=GRB.CONTINUOUS, name=\"distance from district j to ambulance i\")"
   ]
  },
  {
   "cell_type": "code",
   "execution_count": 11,
   "metadata": {},
   "outputs": [
    {
     "data": {
      "text/plain": [
       "{1: <gurobi.Constr *Awaiting Model Update*>,\n",
       " 2: <gurobi.Constr *Awaiting Model Update*>,\n",
       " 3: <gurobi.Constr *Awaiting Model Update*>,\n",
       " 4: <gurobi.Constr *Awaiting Model Update*>,\n",
       " 5: <gurobi.Constr *Awaiting Model Update*>,\n",
       " 6: <gurobi.Constr *Awaiting Model Update*>,\n",
       " 7: <gurobi.Constr *Awaiting Model Update*>,\n",
       " 8: <gurobi.Constr *Awaiting Model Update*>}"
      ]
     },
     "execution_count": 11,
     "metadata": {},
     "output_type": "execute_result"
    }
   ],
   "source": [
    "# === CONSTRAINTS ===\n",
    "\n",
    "# 1. total number of ambulances m = x_j\n",
    "model.addConstr(quicksum(x[j] for j in n) == len(m), \"total ambulances\")\n",
    "\n",
    "# 2. only assign district j to ambulance i if ambulance i is assigned\n",
    "model.addConstrs((y[i, j] <= x[j] for i in n for j in n), \"assign district j to ambulance i if ambulance i is assigned\")\n",
    "\n",
    "# 3. each district is assigned to exactly one ambulance\n",
    "model.addConstrs((quicksum(y[i, j] for j in n) == 1 for i in n), \"each district is assigned to exactly one ambulance\")\n",
    "\n",
    "# 4. Distance from district j to ambulance i multiplied by population of district i\n",
    "model.addConstrs((w_max >= quicksum(y[i, j] * get_distance(i, j)*p_n[i-1] for j in n) for i in n), \"Distance from district i to ambulance j multiplied by population of district j\")"
   ]
  },
  {
   "cell_type": "code",
   "execution_count": 12,
   "metadata": {},
   "outputs": [],
   "source": [
    "# List all constraints\n",
    "constraints = model.getConstrs()"
   ]
  },
  {
   "cell_type": "code",
   "execution_count": 13,
   "metadata": {},
   "outputs": [],
   "source": [
    "# Print constraints\n",
    "for c in constraints:\n",
    "    print(f\"Constraint Name: {c.ConstrName}\\n ========================== \\n\")\n",
    "    expr = model.getRow(c)  # Get the constraint expression\n",
    "    sense = c.Sense  # Get inequality sign\n",
    "    rhs = c.RHS  # Get the right-hand side value\n",
    "\n",
    "    # Map Gurobi senses to mathematical notation\n",
    "    sense_map = {GRB.LESS_EQUAL: \"≤\", GRB.EQUAL: \"=\", GRB.GREATER_EQUAL: \"≥\"}\n",
    "\n",
    "    # Format and print constraint equation\n",
    "    print(f\"{expr} {sense_map[sense]} {rhs}\\n\")"
   ]
  },
  {
   "cell_type": "code",
   "execution_count": 14,
   "metadata": {},
   "outputs": [],
   "source": [
    "# ==== Objective function =====\n",
    "model.setObjective(w_max, GRB.MINIMIZE)"
   ]
  },
  {
   "cell_type": "code",
   "execution_count": 15,
   "metadata": {},
   "outputs": [
    {
     "name": "stdout",
     "output_type": "stream",
     "text": [
      "Gurobi Optimizer version 12.0.0 build v12.0.0rc1 (win64 - Windows 10.0 (19045.2))\n",
      "\n",
      "CPU model: AMD Ryzen 5 5600G with Radeon Graphics, instruction set [SSE2|AVX|AVX2]\n",
      "Thread count: 6 physical cores, 12 logical processors, using up to 12 threads\n",
      "\n",
      "Optimize a model with 81 rows, 73 columns and 264 nonzeros\n",
      "Model fingerprint: 0x8a257b08\n",
      "Variable types: 1 continuous, 72 integer (72 binary)\n",
      "Coefficient statistics:\n",
      "  Matrix range     [1e+00, 6e+02]\n",
      "  Objective range  [1e+00, 1e+00]\n",
      "  Bounds range     [1e+00, 1e+00]\n",
      "  RHS range        [1e+00, 2e+00]\n",
      "Found heuristic solution: objective 600.0000000\n",
      "Presolve time: 0.01s\n",
      "Presolved: 81 rows, 73 columns, 264 nonzeros\n",
      "Variable types: 0 continuous, 73 integer (72 binary)\n",
      "\n",
      "Root relaxation: objective 8.224096e+01, 49 iterations, 0.00 seconds (0.00 work units)\n",
      "\n",
      "    Nodes    |    Current Node    |     Objective Bounds      |     Work\n",
      " Expl Unexpl |  Obj  Depth IntInf | Incumbent    BestBd   Gap | It/Node Time\n",
      "\n",
      "     0     0   82.24096    0   37  600.00000   82.24096  86.3%     -    0s\n",
      "H    0     0                     160.0000000   82.24096  48.6%     -    0s\n",
      "H    0     0                     140.0000000   82.24096  41.3%     -    0s\n",
      "H    0     0                     135.0000000   82.24096  39.1%     -    0s\n",
      "\n",
      "Cutting planes:\n",
      "  RLT: 10\n",
      "  Relax-and-lift: 2\n",
      "\n",
      "Explored 1 nodes (64 simplex iterations) in 0.04 seconds (0.00 work units)\n",
      "Thread count was 12 (of 12 available processors)\n",
      "\n",
      "Solution count 4: 135 140 160 600 \n",
      "\n",
      "Optimal solution found (tolerance 1.00e-04)\n",
      "Best objective 1.350000000000e+02, best bound 1.350000000000e+02, gap 0.0000%\n"
     ]
    }
   ],
   "source": [
    "# Optimize the model\n",
    "model.optimize()"
   ]
  },
  {
   "cell_type": "code",
   "execution_count": 16,
   "metadata": {},
   "outputs": [
    {
     "name": "stdout",
     "output_type": "stream",
     "text": [
      "x_1: 1.0\n",
      "x_2: -0.0\n",
      "x_3: -0.0\n",
      "x_4: -0.0\n",
      "x_5: -0.0\n",
      "x_6: 1.0\n",
      "x_7: -0.0\n",
      "x_8: -0.0\n",
      "Optimal Objective Value: 135.0\n"
     ]
    }
   ],
   "source": [
    "# Print the optimal variables x and objective value\n",
    "for j, v in x.items():\n",
    "    print(f\"x_{j}: {v.x}\")\n",
    "\n",
    "print(f\"Optimal Objective Value: {model.objVal}\")"
   ]
  },
  {
   "cell_type": "code",
   "execution_count": 17,
   "metadata": {},
   "outputs": [
    {
     "name": "stdout",
     "output_type": "stream",
     "text": [
      "y_(1, 1): 1.0 * 0 * 40 = 0.0\n",
      "y_(2, 1): 1.0 * 3 * 30 = 90.0\n",
      "y_(3, 6): 1.0 * 3 * 35 = 105.0\n",
      "y_(4, 1): 1.0 * 6 * 20 = 120.0\n",
      "y_(5, 6): 1.0 * 2 * 15 = 30.0\n",
      "y_(6, 6): 1.0 * 0 * 50 = 0.0\n",
      "y_(7, 6): 1.0 * 3 * 45 = 135.0\n",
      "y_(8, 6): 1.0 * 2 * 60 = 120.0\n"
     ]
    }
   ],
   "source": [
    "# Print the variables y multiplied by distance and population if assigned\n",
    "for i, j in y:\n",
    "    if y[i, j].x > 0:\n",
    "        print(f\"y_{i, j}: {y[i, j].x} * {get_distance(i, j)} * {p_n[i-1]} = {y[i, j].x * get_distance(i, j) * p_n[i-1]}\")"
   ]
  },
  {
   "cell_type": "markdown",
   "metadata": {},
   "source": [
    "## Heuristic solution \n",
    "\n",
    "Continue from the previous question. For any value of m, consider the following heuristic algorithm which runs m iterations. <br>\n",
    "In each iteration, we locate an ambulance in a district that <br><br>\n",
    "\n",
    "1) currently does not have an ambulance, and \n",
    "2) may minimize the maximum population-weighted firefighting times among all districts. <br>\n",
    "If there are multiple districts satisfying these two conditions, <br>\n",
    "pick the one with the smallest district ID among them. <br>\n",
    "We then proceed to the next iteration to look for the next district to locate an ambulance. <br><br>\n",
    "\n",
    "Consider a tiny example with n = 4, m = 2, and dij and pj are provided in Table 3. <br>\n",
    "To locate the first ambulance, we examine the maximum population-weighted firefighting <br>\n",
    "times of locating an ambulance in Districts 1, 2, 3, and 4 as 140, 175, 160, and 240, respectively. <br>\n",
    "We will choose District 1. <br><br>\n",
    "\n",
    "To locate the second ambulance, we take the ambulance in District 1 <br>\n",
    "as given and examine the maximum population-weighted firefighting times <br>\n",
    "of locating an ambulance in Districts 2, 3, and 4 as 140, 90, and 90, respectively. <br>\n",
    "We will choose District 3. The final objective value of locating two ambulances <br>\n",
    "in Districts 1 and 3 is 90 (which is 30 ×3 for District 2).<br><br>\n"
   ]
  },
  {
   "cell_type": "code",
   "execution_count": 18,
   "metadata": {},
   "outputs": [
    {
     "name": "stdout",
     "output_type": "stream",
     "text": [
      "Execution time: 0.0000000000 seconds\n"
     ]
    }
   ],
   "source": [
    "start_time = time.time()\n",
    "# Heuristic\n",
    "\n",
    "# Assignment of districts to ambulances\n",
    "x_j = {j: 0 for j in n}\n",
    "\n",
    "# Get the assignment of districts to the nearest ambulances\n",
    "y_j = {j: 0 for j in n}\n",
    "\n",
    "# current minimum distance\n",
    "dmin_j = {j: 9999 for j in n}\n",
    "\n",
    "# create a list to store all y[i, j] values to get the distance values if ambulance is assigned to district j\n",
    "y_values = { j : [] for j in n }\n",
    "y_max_values = { j : 0 for j in n }\n",
    "\n",
    "# Loop through for all ambulances\n",
    "for _ in range(len(m)):\n",
    "    # Check if the district has no ambulance assigned & may minimize the maximum population-weighted firefighting times among all districts\n",
    "    for j in n:\n",
    "        # --- CONDITION 1 --- if district j is not assigned to any ambulance\n",
    "        if x_j[j] == 0:  \n",
    "            for i in n:\n",
    "                y_values[j].append(min(dmin_j[i], get_distance(i, j)*p_n[i-1]))  \n",
    "            y_max_values[j] = max(y_values[j])\n",
    "        else:\n",
    "            y_max_values[j] = 99999\n",
    "            continue\n",
    "\n",
    "    # --- CONDITION 2 --- Check which district to assign to minimum y_max_values\n",
    "\n",
    "    # Check min in y_max_values\n",
    "    min_y_max = min(y_max_values.values())\n",
    "\n",
    "    # Get the district with the minimum y_max_values\n",
    "    district = [key for key in y_max_values if y_max_values[key] == min_y_max][0]\n",
    "\n",
    "    # Assign the district to the nearest ambulance\n",
    "    x_j[district] = 1\n",
    "\n",
    "    # check the current assigned ambulance assigned to is less than the minimum distance dmin_j\n",
    "    for i in n:\n",
    "        if get_distance(i, district)*p_n[district-1] < dmin_j[i]:\n",
    "            dmin_j[i] = get_distance(i, district)*p_n[i-1]\n",
    "            y_j[i] = district\n",
    "    \n",
    "    # Reset y_values and y_max_values for the next iteration\n",
    "    y_values = {j: [] for j in n}\n",
    "    y_max_values = {j: 0 for j in n}\n",
    "\n",
    "end_time = time.time()\n",
    "Execution_time = end_time - start_time\n",
    "print(f\"Execution time: {Execution_time:.10f} seconds\")"
   ]
  },
  {
   "cell_type": "code",
   "execution_count": 19,
   "metadata": {},
   "outputs": [
    {
     "data": {
      "text/plain": [
       "{1: 1, 2: 0, 3: 0, 4: 1, 5: 0, 6: 0, 7: 0, 8: 0}"
      ]
     },
     "execution_count": 19,
     "metadata": {},
     "output_type": "execute_result"
    }
   ],
   "source": [
    "x_j"
   ]
  },
  {
   "cell_type": "code",
   "execution_count": 20,
   "metadata": {},
   "outputs": [
    {
     "data": {
      "text/plain": [
       "{1: 1, 2: 4, 3: 4, 4: 4, 5: 4, 6: 4, 7: 4, 8: 4}"
      ]
     },
     "execution_count": 20,
     "metadata": {},
     "output_type": "execute_result"
    }
   ],
   "source": [
    "y_j"
   ]
  },
  {
   "cell_type": "code",
   "execution_count": 21,
   "metadata": {},
   "outputs": [
    {
     "data": {
      "text/plain": [
       "{1: 0, 2: 120, 3: 70, 4: 0, 5: 45, 6: 100, 7: 225, 8: 240}"
      ]
     },
     "execution_count": 21,
     "metadata": {},
     "output_type": "execute_result"
    }
   ],
   "source": [
    "dmin_j"
   ]
  },
  {
   "cell_type": "code",
   "execution_count": 22,
   "metadata": {},
   "outputs": [
    {
     "data": {
      "text/plain": [
       "240"
      ]
     },
     "execution_count": 22,
     "metadata": {},
     "output_type": "execute_result"
    }
   ],
   "source": [
    "y_max_values_max = max(dmin_j.values())\n",
    "y_max_values_max"
   ]
  },
  {
   "cell_type": "code",
   "execution_count": 23,
   "metadata": {},
   "outputs": [
    {
     "name": "stdout",
     "output_type": "stream",
     "text": [
      "Optimal Objective Value: 135.0\n",
      "Heuristic Objective Value: 240.0\n",
      "Optimal Gap: 105.0\n",
      "Optimal Execution Time: 0.0429999828 seconds\n",
      "Heuristic Execution Time: 0.0000000000 seconds\n"
     ]
    }
   ],
   "source": [
    "# Print the optimal results objective value vs heuristic results\n",
    "print(f\"Optimal Objective Value: {model.objVal:.1f}\")\n",
    "print(f\"Heuristic Objective Value: {y_max_values_max:.1f}\")\n",
    "\n",
    "# Display gap between heuristic and optimal results\n",
    "optimal_gap = y_max_values_max - model.objVal\n",
    "print(f\"Optimal Gap: {optimal_gap:.1f}\")\n",
    "\n",
    "# Print their run times\n",
    "print(f\"Optimal Execution Time: {model.Runtime:.10f} seconds\")\n",
    "print(f\"Heuristic Execution Time: {Execution_time:.10f} seconds\")"
   ]
  },
  {
   "cell_type": "code",
   "execution_count": 38,
   "metadata": {},
   "outputs": [
    {
     "data": {
      "image/png": "[encoded data removed]",
      "text/plain": [
       "<Figure size 1000x500 with 1 Axes>"
      ]
     },
     "metadata": {},
     "output_type": "display_data"
    }
   ],
   "source": [
    "#Visualize the network using graph plot\n",
    "G = nx.Graph()\n",
    "G.add_nodes_from(n)\n",
    "G.add_nodes_from(m)\n",
    "G.add_edges_from([(i, j) for i in n for j in n if y[i, j].x > 0])\n",
    "\n",
    "# Draw the graph\n",
    "plt.figure(figsize=(10, 5))\n",
    "pos = nx.spring_layout(G)\n",
    "\n",
    "# mark the distircts with ambulances\n",
    "districts_with_ambulances = [j for j in n if x[j].x > 0]\n",
    "nx.draw_networkx_nodes(G, pos, nodelist=districts_with_ambulances, node_color=\"r\", node_size=500, alpha=0.8)\n",
    "nx.draw_networkx_nodes(G, pos, nodelist=[j for j in n if j not in districts_with_ambulances], node_color=\"b\", node_size=500, alpha=0.8)\n",
    "nx.draw_networkx_edges(G, pos, alpha=0.5)\n",
    "nx.draw_networkx_labels(G, pos)\n",
    "plt.title(\"Districts and Ambulances\")\n",
    "plt.show()\n"
   ]
  }
 ],
 "metadata": {
  "kernelspec": {
   "display_name": "venv",
   "language": "python",
   "name": "python3"
  },
  "language_info": {
   "codemirror_mode": {
    "name": "ipython",
    "version": 3
   },
   "file_extension": ".py",
   "mimetype": "text/x-python",
   "name": "python",
   "nbconvert_exporter": "python",
   "pygments_lexer": "ipython3",
   "version": "3.12.7"
  }
 },
 "nbformat": 4,
 "nbformat_minor": 2
}
